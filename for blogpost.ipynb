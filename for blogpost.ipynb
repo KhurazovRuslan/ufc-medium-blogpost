{
 "cells": [
  {
   "cell_type": "markdown",
   "metadata": {},
   "source": [
    "We are going to gather, look and analyze data about UFC events and fights from UFC 2 in 1994 till today. \n",
    "The data will be scraped from <a href='http://ufcstats.com/statistics/events/completed'>ufcstats.com</a> and strored in two .csv files:\n",
    "\n",
    "<li>events.csv - includes information on every UFC event since 1994</li>\n",
    "<li>fights.csv - includes information on every UFC fight since 1994</li>\n",
    "    "
   ]
  },
  {
   "cell_type": "markdown",
   "metadata": {},
   "source": [
    "Both datasets will be used for exploritory analysis trying to answer below questions:\n",
    "<li>Did global pandemic influenced the number of events UFC had in 2020?</li>\n",
    "<li>What are the most common destinations for UFC events and has they changed in 2020?</li>\n",
    "<li>What is the most exciting weightclass to watch?</li>"
   ]
  },
  {
   "cell_type": "markdown",
   "metadata": {},
   "source": [
    "### Step 1. Gather and understand the data."
   ]
  },
  {
   "cell_type": "code",
   "execution_count": 1,
   "metadata": {},
   "outputs": [],
   "source": [
    "# imports for webscraping\n",
    "import bs4\n",
    "from urllib.request import urlopen as uReq\n",
    "from bs4 import BeautifulSoup as soup\n",
    "\n",
    "# import for dataframes\n",
    "import pandas as pd\n",
    "\n",
    "#  EVERY EVENT'S GENERAL INFO FROM UFCSTATS.COM\n",
    "\n",
    "# webpage to scrap from\n",
    "my_url = \"http://ufcstats.com/statistics/events/completed?page=all\"\n",
    "\n",
    "# parsing the page\n",
    "uClient = uReq(my_url)\n",
    "page_html = uClient.read()\n",
    "fight_events = soup(page_html, \"html.parser\")\n",
    "\n",
    "# the page consists of tables with every event general info (name, date, place and link to event's stats)\n",
    "# creating a list of those tables\n",
    "containers = fight_events.findAll(\"td\",{\"class\":\"b-statistics__table-col\"})\n",
    "\n",
    "# first two items in the list don't contain any relevant information\n",
    "del containers[:2]\n",
    "\n",
    "# a dictionary for events' info\n",
    "events = {\n",
    "    \"event name\":[],\n",
    "    \"event date\":[],\n",
    "    \"event place\":[],\n",
    "    \"event link\":[]\n",
    "}\n",
    "\n",
    "\n",
    "# so every even value of the list has event's name, date and link while every odd value has event's place\n",
    "# iterating through the list of tables from the webpage to fill out dictionary\n",
    "for i in range(len(containers)):\n",
    "    \n",
    "    if i%2==0:\n",
    "        events[\"event name\"].append(containers[i].a.text.strip())\n",
    "        events[\"event date\"].append(containers[i].span.text.strip())\n",
    "        events[\"event link\"].append(containers[i].a['href'])\n",
    "    else:\n",
    "        events[\"event place\"].append(containers[i].text.strip())\n",
    "        \n",
    "# a dataframe for later use        \n",
    "events = pd.DataFrame(data=events)\n",
    "\n",
    "# saving dataframe into .csv file\n",
    "events.to_csv(\"events.csv\", index=False)\n",
    "\n",
    "\n",
    "#  EVERY EVENT'S FIGHT INFORMATION\n",
    "\n",
    "# a dictionary that will hold all the information scrapped\n",
    "fights = {\n",
    "    \"fight date\":[],\n",
    "    \"fight weightclass\":[],\n",
    "    \"win method\":[],\n",
    "    \"rounds\":[],\n",
    "    \"time\":[],\n",
    "    \"Winner\":[],\n",
    "    \"Loser\":[],\n",
    "}\n",
    "    \n",
    "\n",
    "#using links from events_data dataframe to get stats for each fight    \n",
    "for link in events[\"event link\"]:\n",
    "    \n",
    "    uClient = uReq(link)\n",
    "    page_html = uClient.read()\n",
    "    uClient.close()\n",
    "    \n",
    "    #parsed webpage of the event\n",
    "    event_page = soup(page_html, \"html.parser\")\n",
    "    \n",
    "    \n",
    "    #event's every fight (general info)\n",
    "    containers = event_page.findAll(\"tr\",{\"class\":\"b-fight-details__table-row b-fight-details__table-row__hover js-fight-details-click\"})\n",
    "    \n",
    "    #looping through every fight to scrap general info to fill out dictionary\n",
    "    for container in containers:\n",
    "        \n",
    "        stats = container.findAll(\"p\",{\"class\":\"b-fight-details__table-text\"})\n",
    "        \n",
    "        #stats contain every p class element of the table, p class is basically a cell of the table on the webpage\n",
    "        #some cells are split in two some not\n",
    "        #the first page has a winn/draw info of the fight. If there is a draw that cell is split in two (draw / draw)\n",
    "        #which creates additional element and makes len(stats) one element bigger. \n",
    "        #that's why if there's a 'win' in the first cell I'll delete the first element from the list (don't need that info)\n",
    "        #but if there's a 'draw' I'll delete first two elements to make the length of the list same for each iteration\n",
    "        \n",
    "        if stats[0].i.text == 'win':\n",
    "            del stats[0]\n",
    "        else:\n",
    "            del stats[0:2]\n",
    "        \n",
    "        #filling out the dictionary with scrapped information\n",
    "        fights[\"fight date\"].append(event_page.find(\"li\",{\"class\":\"b-list__box-list-item\"}).text.split(\":\")[1].strip())\n",
    "        fights[\"Winner\"].append(stats[0].a.text.strip())\n",
    "        fights[\"Loser\"].append(stats[1].a.text.strip())\n",
    "        fights[\"fight weightclass\"].append(stats[10].text.strip())\n",
    "        fights[\"win method\"].append(stats[11].text.strip())\n",
    "        fights[\"rounds\"].append(int(stats[13].text.strip()))\n",
    "        fights[\"time\"].append(stats[14].text.strip())\n",
    "        \n",
    "        \n",
    "#creating a dataframe out of dictionary        \n",
    "fights = pd.DataFrame(data=fights)\n",
    "\n",
    "#saving data into .csv file\n",
    "fights.to_csv(\"fights.csv\", index=False)"
   ]
  },
  {
   "cell_type": "markdown",
   "metadata": {},
   "source": [
    "Now, after we gathered the data let's have a look at our dataframes."
   ]
  },
  {
   "cell_type": "code",
   "execution_count": 4,
   "metadata": {},
   "outputs": [
    {
     "data": {
      "text/html": [
       "<div>\n",
       "<style scoped>\n",
       "    .dataframe tbody tr th:only-of-type {\n",
       "        vertical-align: middle;\n",
       "    }\n",
       "\n",
       "    .dataframe tbody tr th {\n",
       "        vertical-align: top;\n",
       "    }\n",
       "\n",
       "    .dataframe thead th {\n",
       "        text-align: right;\n",
       "    }\n",
       "</style>\n",
       "<table border=\"1\" class=\"dataframe\">\n",
       "  <thead>\n",
       "    <tr style=\"text-align: right;\">\n",
       "      <th></th>\n",
       "      <th>event name</th>\n",
       "      <th>event date</th>\n",
       "      <th>event place</th>\n",
       "      <th>event link</th>\n",
       "    </tr>\n",
       "  </thead>\n",
       "  <tbody>\n",
       "    <tr>\n",
       "      <th>0</th>\n",
       "      <td>UFC 256: Figueiredo vs. Moreno</td>\n",
       "      <td>December 12, 2020</td>\n",
       "      <td>Las Vegas, Nevada, USA</td>\n",
       "      <td>http://ufcstats.com/event-details/d0d43cb9b14f...</td>\n",
       "    </tr>\n",
       "    <tr>\n",
       "      <th>1</th>\n",
       "      <td>UFC Fight Night: Hermansson vs. Vettori</td>\n",
       "      <td>December 05, 2020</td>\n",
       "      <td>Las Vegas, Nevada, USA</td>\n",
       "      <td>http://ufcstats.com/event-details/398b440e73d5...</td>\n",
       "    </tr>\n",
       "    <tr>\n",
       "      <th>2</th>\n",
       "      <td>UFC Fight Night: Smith vs. Clark</td>\n",
       "      <td>November 28, 2020</td>\n",
       "      <td>Las Vegas, Nevada, USA</td>\n",
       "      <td>http://ufcstats.com/event-details/992c82450d96...</td>\n",
       "    </tr>\n",
       "    <tr>\n",
       "      <th>3</th>\n",
       "      <td>UFC 255: Figueiredo vs. Perez</td>\n",
       "      <td>November 21, 2020</td>\n",
       "      <td>Las Vegas, Nevada, USA</td>\n",
       "      <td>http://ufcstats.com/event-details/bbb15f301e4a...</td>\n",
       "    </tr>\n",
       "    <tr>\n",
       "      <th>4</th>\n",
       "      <td>UFC Fight Night: Felder vs. Dos Anjos</td>\n",
       "      <td>November 14, 2020</td>\n",
       "      <td>Las Vegas, Nevada, USA</td>\n",
       "      <td>http://ufcstats.com/event-details/3bc27ec15fac...</td>\n",
       "    </tr>\n",
       "  </tbody>\n",
       "</table>\n",
       "</div>"
      ],
      "text/plain": [
       "                                event name         event date  \\\n",
       "0           UFC 256: Figueiredo vs. Moreno  December 12, 2020   \n",
       "1  UFC Fight Night: Hermansson vs. Vettori  December 05, 2020   \n",
       "2         UFC Fight Night: Smith vs. Clark  November 28, 2020   \n",
       "3            UFC 255: Figueiredo vs. Perez  November 21, 2020   \n",
       "4    UFC Fight Night: Felder vs. Dos Anjos  November 14, 2020   \n",
       "\n",
       "              event place                                         event link  \n",
       "0  Las Vegas, Nevada, USA  http://ufcstats.com/event-details/d0d43cb9b14f...  \n",
       "1  Las Vegas, Nevada, USA  http://ufcstats.com/event-details/398b440e73d5...  \n",
       "2  Las Vegas, Nevada, USA  http://ufcstats.com/event-details/992c82450d96...  \n",
       "3  Las Vegas, Nevada, USA  http://ufcstats.com/event-details/bbb15f301e4a...  \n",
       "4  Las Vegas, Nevada, USA  http://ufcstats.com/event-details/3bc27ec15fac...  "
      ]
     },
     "execution_count": 4,
     "metadata": {},
     "output_type": "execute_result"
    }
   ],
   "source": [
    "events.head()"
   ]
  },
  {
   "cell_type": "code",
   "execution_count": 5,
   "metadata": {},
   "outputs": [
    {
     "name": "stdout",
     "output_type": "stream",
     "text": [
      "<class 'pandas.core.frame.DataFrame'>\n",
      "RangeIndex: 544 entries, 0 to 543\n",
      "Data columns (total 4 columns):\n",
      " #   Column       Non-Null Count  Dtype \n",
      "---  ------       --------------  ----- \n",
      " 0   event name   544 non-null    object\n",
      " 1   event date   544 non-null    object\n",
      " 2   event place  544 non-null    object\n",
      " 3   event link   544 non-null    object\n",
      "dtypes: object(4)\n",
      "memory usage: 17.1+ KB\n"
     ]
    }
   ],
   "source": [
    "events.info()"
   ]
  },
  {
   "cell_type": "markdown",
   "metadata": {},
   "source": [
    "Events dataframe has 544 entries and 4 columns that contain name, date and place of the UFC event and a link to event's page on <a href='http://ufcstats.com/statistics/events/completed'>ufcstats.com</a>. No missing values in the dataframe."
   ]
  },
  {
   "cell_type": "code",
   "execution_count": 6,
   "metadata": {},
   "outputs": [
    {
     "data": {
      "text/html": [
       "<div>\n",
       "<style scoped>\n",
       "    .dataframe tbody tr th:only-of-type {\n",
       "        vertical-align: middle;\n",
       "    }\n",
       "\n",
       "    .dataframe tbody tr th {\n",
       "        vertical-align: top;\n",
       "    }\n",
       "\n",
       "    .dataframe thead th {\n",
       "        text-align: right;\n",
       "    }\n",
       "</style>\n",
       "<table border=\"1\" class=\"dataframe\">\n",
       "  <thead>\n",
       "    <tr style=\"text-align: right;\">\n",
       "      <th></th>\n",
       "      <th>fight date</th>\n",
       "      <th>fight weightclass</th>\n",
       "      <th>win method</th>\n",
       "      <th>rounds</th>\n",
       "      <th>time</th>\n",
       "      <th>Winner</th>\n",
       "      <th>Loser</th>\n",
       "    </tr>\n",
       "  </thead>\n",
       "  <tbody>\n",
       "    <tr>\n",
       "      <th>0</th>\n",
       "      <td>December 12, 2020</td>\n",
       "      <td>Flyweight</td>\n",
       "      <td>M-DEC</td>\n",
       "      <td>5</td>\n",
       "      <td>5:00</td>\n",
       "      <td>Deiveson Figueiredo</td>\n",
       "      <td>Brandon Moreno</td>\n",
       "    </tr>\n",
       "    <tr>\n",
       "      <th>1</th>\n",
       "      <td>December 12, 2020</td>\n",
       "      <td>Lightweight</td>\n",
       "      <td>U-DEC</td>\n",
       "      <td>3</td>\n",
       "      <td>5:00</td>\n",
       "      <td>Charles Oliveira</td>\n",
       "      <td>Tony Ferguson</td>\n",
       "    </tr>\n",
       "    <tr>\n",
       "      <th>2</th>\n",
       "      <td>December 12, 2020</td>\n",
       "      <td>Women's Strawweight</td>\n",
       "      <td>U-DEC</td>\n",
       "      <td>3</td>\n",
       "      <td>5:00</td>\n",
       "      <td>Mackenzie Dern</td>\n",
       "      <td>Virna Jandiroba</td>\n",
       "    </tr>\n",
       "    <tr>\n",
       "      <th>3</th>\n",
       "      <td>December 12, 2020</td>\n",
       "      <td>Middleweight</td>\n",
       "      <td>KO/TKO</td>\n",
       "      <td>1</td>\n",
       "      <td>1:45</td>\n",
       "      <td>Kevin Holland</td>\n",
       "      <td>Jacare Souza</td>\n",
       "    </tr>\n",
       "    <tr>\n",
       "      <th>4</th>\n",
       "      <td>December 12, 2020</td>\n",
       "      <td>Heavyweight</td>\n",
       "      <td>KO/TKO</td>\n",
       "      <td>2</td>\n",
       "      <td>2:34</td>\n",
       "      <td>Ciryl Gane</td>\n",
       "      <td>Junior Dos Santos</td>\n",
       "    </tr>\n",
       "  </tbody>\n",
       "</table>\n",
       "</div>"
      ],
      "text/plain": [
       "          fight date    fight weightclass win method  rounds  time  \\\n",
       "0  December 12, 2020            Flyweight      M-DEC       5  5:00   \n",
       "1  December 12, 2020          Lightweight      U-DEC       3  5:00   \n",
       "2  December 12, 2020  Women's Strawweight      U-DEC       3  5:00   \n",
       "3  December 12, 2020         Middleweight     KO/TKO       1  1:45   \n",
       "4  December 12, 2020          Heavyweight     KO/TKO       2  2:34   \n",
       "\n",
       "                Winner              Loser  \n",
       "0  Deiveson Figueiredo     Brandon Moreno  \n",
       "1     Charles Oliveira      Tony Ferguson  \n",
       "2       Mackenzie Dern    Virna Jandiroba  \n",
       "3        Kevin Holland       Jacare Souza  \n",
       "4           Ciryl Gane  Junior Dos Santos  "
      ]
     },
     "execution_count": 6,
     "metadata": {},
     "output_type": "execute_result"
    }
   ],
   "source": [
    "fights.head()"
   ]
  },
  {
   "cell_type": "code",
   "execution_count": 7,
   "metadata": {},
   "outputs": [
    {
     "name": "stdout",
     "output_type": "stream",
     "text": [
      "<class 'pandas.core.frame.DataFrame'>\n",
      "RangeIndex: 5905 entries, 0 to 5904\n",
      "Data columns (total 7 columns):\n",
      " #   Column             Non-Null Count  Dtype \n",
      "---  ------             --------------  ----- \n",
      " 0   fight date         5905 non-null   object\n",
      " 1   fight weightclass  5905 non-null   object\n",
      " 2   win method         5905 non-null   object\n",
      " 3   rounds             5905 non-null   int64 \n",
      " 4   time               5905 non-null   object\n",
      " 5   Winner             5905 non-null   object\n",
      " 6   Loser              5905 non-null   object\n",
      "dtypes: int64(1), object(6)\n",
      "memory usage: 323.1+ KB\n"
     ]
    }
   ],
   "source": [
    "fights.info()"
   ]
  },
  {
   "cell_type": "markdown",
   "metadata": {},
   "source": [
    "Fights dataframe has 5905 entries and 7 columns that contain fight date, fight weightclass, win method of the fight, number of round the fight ended with, what time of the round the ended, winner and loser of the fight. No missing values in the dataframe."
   ]
  },
  {
   "cell_type": "markdown",
   "metadata": {},
   "source": [
    "### Step 2. Data processing and analysis."
   ]
  },
  {
   "cell_type": "code",
   "execution_count": 11,
   "metadata": {},
   "outputs": [],
   "source": [
    "# libraries we need for EDA\n",
    "from datetime import datetime \n",
    "import matplotlib.pyplot as plt\n",
    "import seaborn as sns\n",
    "%matplotlib inline"
   ]
  },
  {
   "cell_type": "code",
   "execution_count": 12,
   "metadata": {},
   "outputs": [],
   "source": [
    "# function to plot the graphs\n",
    "def plot_it(df,kind,figsize=(10,6)):\n",
    "    \"\"\"\n",
    "    A function to plot quick graphs.\n",
    "    df - a dataframe or a series,\n",
    "    kind - graph to plot ('line','bar',etc.),\n",
    "    figsize - tuple, size of the figure (default is (10,6))\n",
    "    returns a specified graph\n",
    "    \"\"\"\n",
    "    plt.figure(figsize=figsize)\n",
    "    return df.plot(kind=kind)"
   ]
  },
  {
   "cell_type": "markdown",
   "metadata": {},
   "source": [
    "Our first goal is to determine if global pandemic effected the number of events UFC hosted in 2020. In order to do that, we need to count number of events UFC had every year. 'event date' column in events dataframe will help us to do that. But first we need to transform the data in the column from 'object' type into 'timestamp'."
   ]
  },
  {
   "cell_type": "code",
   "execution_count": 13,
   "metadata": {},
   "outputs": [],
   "source": [
    "# transforming data in the column into timestamp\n",
    "events['event date'] = [datetime.strptime(date, '%B %d, %Y') for date in events['event date']]"
   ]
  },
  {
   "cell_type": "code",
   "execution_count": 14,
   "metadata": {},
   "outputs": [],
   "source": [
    "# a new column that contains only the years of UFC events\n",
    "events['year'] = events['event date'].dt.year"
   ]
  },
  {
   "cell_type": "markdown",
   "metadata": {},
   "source": [
    "Now we need to group the data and counts number of events for each year. Then, plot the graph to visualize the result."
   ]
  },
  {
   "cell_type": "code",
   "execution_count": 15,
   "metadata": {},
   "outputs": [
    {
     "data": {
      "text/plain": [
       "year\n",
       "1994     3\n",
       "1995     4\n",
       "1996     5\n",
       "1997     5\n",
       "1998     3\n",
       "1999     6\n",
       "2000     6\n",
       "2001     5\n",
       "2002     7\n",
       "2003     5\n",
       "2004     5\n",
       "2005    10\n",
       "2006    18\n",
       "2007    19\n",
       "2008    20\n",
       "2009    20\n",
       "2010    24\n",
       "2011    27\n",
       "2012    31\n",
       "2013    33\n",
       "2014    46\n",
       "2015    41\n",
       "2016    41\n",
       "2017    39\n",
       "2018    39\n",
       "2019    42\n",
       "2020    40\n",
       "Name: event name, dtype: int64"
      ]
     },
     "execution_count": 15,
     "metadata": {},
     "output_type": "execute_result"
    }
   ],
   "source": [
    "# number of events per year\n",
    "events_per_year = events.groupby('year')['event name'].count()\n",
    "events_per_year"
   ]
  },
  {
   "cell_type": "code",
   "execution_count": 16,
   "metadata": {},
   "outputs": [
    {
     "data": {
      "image/png": "[encoded data removed]",
      "text/plain": [
       "<Figure size 720x432 with 1 Axes>"
      ]
     },
     "metadata": {
      "needs_background": "light"
     },
     "output_type": "display_data"
    }
   ],
   "source": [
    "# plot the graph\n",
    "plot_it(df=events_per_year,kind='bar');"
   ]
  },
  {
   "cell_type": "markdown",
   "metadata": {},
   "source": [
    "So, according to this graph we can see that number of events has been steadily growing since 2005 reaching more than 40 events per year in mid 2010s (46 events in 2014). That is actually not a coincidense. In 2005 UFC launched its reality show, Ultimate Fighter, on Spike TV which became a huge success and exploded UFC popularity. Since 2014 UFC has been hosting around 40 events per year which is also true for 2020. Despite global pandemic the promotion will have 41 events this year. And considering all major sports were on a lockdown, I'm sure promotion's PPV numbers have also been on a high level (although this information is not disclosed so I cannot check it)."
   ]
  },
  {
   "cell_type": "markdown",
   "metadata": {},
   "source": [
    "Next is to define the most common destinations (city) for UFC events. 'event place' column will help with that. The column has a name of the city, state (if in US) and country for every UFC event. We need a separate city names and count the number of events in every one of them and take out top 10 cities for UFC event. Also we want to know if pandemic somehow effected the destinations in 2020."
   ]
  },
  {
   "cell_type": "code",
   "execution_count": 17,
   "metadata": {},
   "outputs": [],
   "source": [
    "# column for event city\n",
    "events['event city'] = [place.split(',')[0].strip() for place in events['event place']]"
   ]
  },
  {
   "cell_type": "code",
   "execution_count": 18,
   "metadata": {},
   "outputs": [
    {
     "data": {
      "text/plain": [
       "event city\n",
       "Las Vegas         144\n",
       "Abu Dhabi          12\n",
       "London             11\n",
       "Rio de Janeiro     10\n",
       "Atlantic City       9\n",
       "Anaheim             8\n",
       "Sao Paulo           8\n",
       "Newark              8\n",
       "Chicago             7\n",
       "Los Angeles         7\n",
       "Name: event name, dtype: int64"
      ]
     },
     "execution_count": 18,
     "metadata": {},
     "output_type": "execute_result"
    }
   ],
   "source": [
    "# top 10 cities for UFC events\n",
    "events_per_city = events.groupby('event city')['event name'].count().sort_values(ascending=False)[:10]\n",
    "events_per_city"
   ]
  },
  {
   "cell_type": "code",
   "execution_count": 19,
   "metadata": {},
   "outputs": [
    {
     "data": {
      "image/png": "[encoded data removed]",
      "text/plain": [
       "<Figure size 720x432 with 1 Axes>"
      ]
     },
     "metadata": {
      "needs_background": "light"
     },
     "output_type": "display_data"
    }
   ],
   "source": [
    "# plot the graph\n",
    "plot_it(events_per_city,'barh');"
   ]
  },
  {
   "cell_type": "code",
   "execution_count": 20,
   "metadata": {},
   "outputs": [
    {
     "data": {
      "text/plain": [
       "event city\n",
       "Las Vegas       22\n",
       "Abu Dhabi        9\n",
       "Jacksonville     3\n",
       "Rio Rancho       1\n",
       "Raleigh          1\n",
       "Norfolk          1\n",
       "Houston          1\n",
       "Brasilia         1\n",
       "Auckland         1\n",
       "Name: event name, dtype: int64"
      ]
     },
     "execution_count": 20,
     "metadata": {},
     "output_type": "execute_result"
    }
   ],
   "source": [
    "# events per city in 2020\n",
    "events_per_city_2020 = events[events['year']==2020].groupby('event city')['event name'].count().sort_values(ascending=False)\n",
    "events_per_city_2020"
   ]
  },
  {
   "cell_type": "code",
   "execution_count": 21,
   "metadata": {},
   "outputs": [
    {
     "data": {
      "image/png": "[encoded data removed]",
      "text/plain": [
       "<Figure size 720x432 with 1 Axes>"
      ]
     },
     "metadata": {
      "needs_background": "light"
     },
     "output_type": "display_data"
    }
   ],
   "source": [
    "plot_it(events_per_city_2020,'barh');"
   ]
  },
  {
   "cell_type": "markdown",
   "metadata": {},
   "source": [
    "So, Las Vegas is way far ahead in hosting UFC events. 144 (145 by the end of 202) events in UFC history happened in Sin City. Abu Dhabi, UAE, comes second with only 12 events. But unlike Las Vegas that has a huge lead, Abu Dhabi got into top 10 only this year because of 9 UFC events placed there in 2020. I guess, other than Las Vegas, global pandemic did effect what places UFC choose for their events."
   ]
  },
  {
   "cell_type": "markdown",
   "metadata": {},
   "source": [
    "Now, many people believe that the level of entartainment of the fight is measured on if there was an early stoppage or not. They find the fights that go the distance a little less exciting rather than if there is a KO or a submission victory. I don't think that's complety true but just to toy with that idea I want to know what weightclass in UFC has the most KO or submission victories."
   ]
  },
  {
   "cell_type": "code",
   "execution_count": 22,
   "metadata": {},
   "outputs": [
    {
     "data": {
      "text/plain": [
       "U-DEC         2041\n",
       "KO/TKO        1956\n",
       "SUB           1205\n",
       "S-DEC          560\n",
       "M-DEC           64\n",
       "Overturned      45\n",
       "DQ              17\n",
       "CNC             15\n",
       "Other            2\n",
       "Name: win method, dtype: int64"
      ]
     },
     "execution_count": 22,
     "metadata": {},
     "output_type": "execute_result"
    }
   ],
   "source": [
    "# first, what type of victory is most common\n",
    "fights['win method'].value_counts()"
   ]
  },
  {
   "cell_type": "code",
   "execution_count": 23,
   "metadata": {},
   "outputs": [
    {
     "data": {
      "image/png": "[encoded data removed]",
      "text/plain": [
       "<Figure size 720x432 with 1 Axes>"
      ]
     },
     "metadata": {
      "needs_background": "light"
     },
     "output_type": "display_data"
    }
   ],
   "source": [
    "# a dataframe with number of early stoppage fights grouped by weightclass\n",
    "early_stop = fights[(fights['win method']=='KO/TKO')|\n",
    "                   (fights['win method']=='SUB')].groupby('fight weightclass')['Winner'].count().sort_values(ascending=False)\n",
    "plot_it(early_stop,'barh');"
   ]
  },
  {
   "cell_type": "markdown",
   "metadata": {},
   "source": [
    "If we look at this graph, it seems like most of welter- or lightweight fights don't go the distance. I think it's a bit misleading because I belive there are more fights in general in those weightclasses than, let's say, in women's featherweight."
   ]
  },
  {
   "cell_type": "code",
   "execution_count": 24,
   "metadata": {},
   "outputs": [
    {
     "data": {
      "image/png": "[encoded data removed]",
      "text/plain": [
       "<Figure size 720x432 with 1 Axes>"
      ]
     },
     "metadata": {
      "needs_background": "light"
     },
     "output_type": "display_data"
    }
   ],
   "source": [
    "# total number of fights by weightclasses\n",
    "total_fights = fights.groupby('fight weightclass')['Winner'].count().sort_values(ascending=False)\n",
    "plot_it(total_fights,'barh');"
   ]
  },
  {
   "cell_type": "markdown",
   "metadata": {},
   "source": [
    "But we want to know which weightclass is more exciting. We need to find a weightclass with highest percentage of fights stopped early."
   ]
  },
  {
   "cell_type": "code",
   "execution_count": 25,
   "metadata": {},
   "outputs": [
    {
     "data": {
      "text/html": [
       "<div>\n",
       "<style scoped>\n",
       "    .dataframe tbody tr th:only-of-type {\n",
       "        vertical-align: middle;\n",
       "    }\n",
       "\n",
       "    .dataframe tbody tr th {\n",
       "        vertical-align: top;\n",
       "    }\n",
       "\n",
       "    .dataframe thead th {\n",
       "        text-align: right;\n",
       "    }\n",
       "</style>\n",
       "<table border=\"1\" class=\"dataframe\">\n",
       "  <thead>\n",
       "    <tr style=\"text-align: right;\">\n",
       "      <th></th>\n",
       "      <th>Total fights</th>\n",
       "      <th>Stopped early</th>\n",
       "    </tr>\n",
       "  </thead>\n",
       "  <tbody>\n",
       "    <tr>\n",
       "      <th>Lightweight</th>\n",
       "      <td>1089</td>\n",
       "      <td>546</td>\n",
       "    </tr>\n",
       "    <tr>\n",
       "      <th>Welterweight</th>\n",
       "      <td>1065</td>\n",
       "      <td>549</td>\n",
       "    </tr>\n",
       "    <tr>\n",
       "      <th>Middleweight</th>\n",
       "      <td>805</td>\n",
       "      <td>485</td>\n",
       "    </tr>\n",
       "    <tr>\n",
       "      <th>Heavyweight</th>\n",
       "      <td>576</td>\n",
       "      <td>401</td>\n",
       "    </tr>\n",
       "    <tr>\n",
       "      <th>Light Heavyweight</th>\n",
       "      <td>556</td>\n",
       "      <td>339</td>\n",
       "    </tr>\n",
       "    <tr>\n",
       "      <th>Featherweight</th>\n",
       "      <td>538</td>\n",
       "      <td>235</td>\n",
       "    </tr>\n",
       "    <tr>\n",
       "      <th>Bantamweight</th>\n",
       "      <td>458</td>\n",
       "      <td>224</td>\n",
       "    </tr>\n",
       "    <tr>\n",
       "      <th>Flyweight</th>\n",
       "      <td>219</td>\n",
       "      <td>91</td>\n",
       "    </tr>\n",
       "    <tr>\n",
       "      <th>Women's Strawweight</th>\n",
       "      <td>186</td>\n",
       "      <td>57</td>\n",
       "    </tr>\n",
       "    <tr>\n",
       "      <th>Women's Bantamweight</th>\n",
       "      <td>143</td>\n",
       "      <td>58</td>\n",
       "    </tr>\n",
       "    <tr>\n",
       "      <th>Open Weight</th>\n",
       "      <td>117</td>\n",
       "      <td>106</td>\n",
       "    </tr>\n",
       "    <tr>\n",
       "      <th>Women's Flyweight</th>\n",
       "      <td>103</td>\n",
       "      <td>41</td>\n",
       "    </tr>\n",
       "    <tr>\n",
       "      <th>Catch Weight</th>\n",
       "      <td>34</td>\n",
       "      <td>19</td>\n",
       "    </tr>\n",
       "    <tr>\n",
       "      <th>Women's Featherweight</th>\n",
       "      <td>15</td>\n",
       "      <td>9</td>\n",
       "    </tr>\n",
       "    <tr>\n",
       "      <th>Super Heavyweight</th>\n",
       "      <td>1</td>\n",
       "      <td>1</td>\n",
       "    </tr>\n",
       "  </tbody>\n",
       "</table>\n",
       "</div>"
      ],
      "text/plain": [
       "                       Total fights  Stopped early\n",
       "Lightweight                    1089            546\n",
       "Welterweight                   1065            549\n",
       "Middleweight                    805            485\n",
       "Heavyweight                     576            401\n",
       "Light Heavyweight               556            339\n",
       "Featherweight                   538            235\n",
       "Bantamweight                    458            224\n",
       "Flyweight                       219             91\n",
       "Women's Strawweight             186             57\n",
       "Women's Bantamweight            143             58\n",
       "Open Weight                     117            106\n",
       "Women's Flyweight               103             41\n",
       "Catch Weight                     34             19\n",
       "Women's Featherweight            15              9\n",
       "Super Heavyweight                 1              1"
      ]
     },
     "execution_count": 25,
     "metadata": {},
     "output_type": "execute_result"
    }
   ],
   "source": [
    "# new dataframe with number of fights and stoppages by weightclasses\n",
    "fights_by_weightclass = pd.concat([total_fights,early_stop], axis=1)\n",
    "fights_by_weightclass.columns = ['Total fights','Stopped early']\n",
    "fights_by_weightclass"
   ]
  },
  {
   "cell_type": "code",
   "execution_count": 26,
   "metadata": {},
   "outputs": [
    {
     "data": {
      "image/png": "[encoded data removed]",
      "text/plain": [
       "<Figure size 720x432 with 1 Axes>"
      ]
     },
     "metadata": {
      "needs_background": "light"
     },
     "output_type": "display_data"
    }
   ],
   "source": [
    "# and a new column to show % of fights stopped early\n",
    "fights_by_weightclass['% stopped early'] = round(fights_by_weightclass['Stopped early']/fights_by_weightclass['Total fights']*100,\n",
    "                                                 2)\n",
    "\n",
    "# most exciting weightclass (drop first 2, super heavyweight and open weight, and catch weight \n",
    "# because they don't have them anymore)\n",
    "exciting_weightclass = fights_by_weightclass['% stopped early'].sort_values(ascending=False)[2:].drop('Catch Weight', axis=0)\n",
    "plot_it(exciting_weightclass,'barh');"
   ]
  },
  {
   "cell_type": "markdown",
   "metadata": {},
   "source": [
    "So, heavyweight happens to be the most exciting weightclass in UFC with almost 70% of the fights didn't go the distance. Interestingly, in both men and women weightclasses, the bigger the fighters are the more likely the fight to be stoppage victory."
   ]
  },
  {
   "cell_type": "markdown",
   "metadata": {},
   "source": [
    "### The end"
   ]
  }
 ],
 "metadata": {
  "kernelspec": {
   "display_name": "Python 3",
   "language": "python",
   "name": "python3"
  },
  "language_info": {
   "codemirror_mode": {
    "name": "ipython",
    "version": 3
   },
   "file_extension": ".py",
   "mimetype": "text/x-python",
   "name": "python",
   "nbconvert_exporter": "python",
   "pygments_lexer": "ipython3",
   "version": "3.7.8"
  }
 },
 "nbformat": 4,
 "nbformat_minor": 4
}
